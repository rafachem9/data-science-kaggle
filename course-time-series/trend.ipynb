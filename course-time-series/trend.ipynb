{
 "cells": [
  {
   "cell_type": "code",
   "execution_count": 1,
   "id": "f57e9631-2a95-47c7-8559-cf7778e30756",
   "metadata": {},
   "outputs": [],
   "source": [
    "import pandas as pd\n",
    "import matplotlib.pyplot as plt\n",
    "import numpy as np\n",
    "import seaborn as sns\n",
    "from sklearn.linear_model import LinearRegression"
   ]
  },
  {
   "cell_type": "code",
   "execution_count": 2,
   "id": "d137b5b4-ee6f-42f2-a47c-19cb4231032b",
   "metadata": {},
   "outputs": [],
   "source": [
    "DATA_FOLDER = '/home/rafachem9/Documents/repos-git/python-for-data-science-and-machine-learning-bootcamp/kaggle/course-time-series/data'\n",
    "\n",
    "retail_sales = pd.read_csv(\n",
    "   f\"{DATA_FOLDER}/us-retail-sales.csv\",\n",
    "    parse_dates=['Month'],\n",
    "    index_col='Month').to_period('D')"
   ]
  },
  {
   "cell_type": "code",
   "execution_count": 3,
   "id": "29ea294b-92c5-4c92-9236-dec61dc066e3",
   "metadata": {},
   "outputs": [
    {
     "data": {
      "text/html": [
       "<div>\n",
       "<style scoped>\n",
       "    .dataframe tbody tr th:only-of-type {\n",
       "        vertical-align: middle;\n",
       "    }\n",
       "\n",
       "    .dataframe tbody tr th {\n",
       "        vertical-align: top;\n",
       "    }\n",
       "\n",
       "    .dataframe thead th {\n",
       "        text-align: right;\n",
       "    }\n",
       "</style>\n",
       "<table border=\"1\" class=\"dataframe\">\n",
       "  <thead>\n",
       "    <tr style=\"text-align: right;\">\n",
       "      <th></th>\n",
       "      <th>Clothing</th>\n",
       "      <th>Appliances</th>\n",
       "      <th>FoodAndBeverage</th>\n",
       "      <th>Automobiles</th>\n",
       "      <th>GeneralMerchandise</th>\n",
       "      <th>BuildingMaterials</th>\n",
       "    </tr>\n",
       "    <tr>\n",
       "      <th>Month</th>\n",
       "      <th></th>\n",
       "      <th></th>\n",
       "      <th></th>\n",
       "      <th></th>\n",
       "      <th></th>\n",
       "      <th></th>\n",
       "    </tr>\n",
       "  </thead>\n",
       "  <tbody>\n",
       "    <tr>\n",
       "      <th>1992-01-01</th>\n",
       "      <td>6938</td>\n",
       "      <td>3657</td>\n",
       "      <td>29589</td>\n",
       "      <td>26788</td>\n",
       "      <td>14996</td>\n",
       "      <td>8964</td>\n",
       "    </tr>\n",
       "    <tr>\n",
       "      <th>1992-02-01</th>\n",
       "      <td>7524</td>\n",
       "      <td>3490</td>\n",
       "      <td>28570</td>\n",
       "      <td>28203</td>\n",
       "      <td>16015</td>\n",
       "      <td>9023</td>\n",
       "    </tr>\n",
       "    <tr>\n",
       "      <th>1992-03-01</th>\n",
       "      <td>8475</td>\n",
       "      <td>3669</td>\n",
       "      <td>29682</td>\n",
       "      <td>31684</td>\n",
       "      <td>17984</td>\n",
       "      <td>10608</td>\n",
       "    </tr>\n",
       "    <tr>\n",
       "      <th>1992-04-01</th>\n",
       "      <td>9401</td>\n",
       "      <td>3527</td>\n",
       "      <td>30228</td>\n",
       "      <td>32547</td>\n",
       "      <td>18872</td>\n",
       "      <td>11630</td>\n",
       "    </tr>\n",
       "    <tr>\n",
       "      <th>1992-05-01</th>\n",
       "      <td>9558</td>\n",
       "      <td>3571</td>\n",
       "      <td>31677</td>\n",
       "      <td>32883</td>\n",
       "      <td>20037</td>\n",
       "      <td>12327</td>\n",
       "    </tr>\n",
       "  </tbody>\n",
       "</table>\n",
       "</div>"
      ],
      "text/plain": [
       "            Clothing  Appliances  FoodAndBeverage  Automobiles  \\\n",
       "Month                                                            \n",
       "1992-01-01      6938        3657            29589        26788   \n",
       "1992-02-01      7524        3490            28570        28203   \n",
       "1992-03-01      8475        3669            29682        31684   \n",
       "1992-04-01      9401        3527            30228        32547   \n",
       "1992-05-01      9558        3571            31677        32883   \n",
       "\n",
       "            GeneralMerchandise  BuildingMaterials  \n",
       "Month                                              \n",
       "1992-01-01               14996               8964  \n",
       "1992-02-01               16015               9023  \n",
       "1992-03-01               17984              10608  \n",
       "1992-04-01               18872              11630  \n",
       "1992-05-01               20037              12327  "
      ]
     },
     "execution_count": 3,
     "metadata": {},
     "output_type": "execute_result"
    }
   ],
   "source": [
    "retail_sales.head()"
   ]
  },
  {
   "cell_type": "code",
   "execution_count": 4,
   "id": "bc600bcf-1b50-46ce-ae42-6e88afbebfc3",
   "metadata": {},
   "outputs": [],
   "source": [
    "food_sales = retail_sales.loc[:, 'FoodAndBeverage']\n",
    "auto_sales = retail_sales.loc[:, 'Automobiles']"
   ]
  },
  {
   "cell_type": "code",
   "execution_count": 5,
   "id": "5b9dcb00-192e-46bf-91c8-35eaf709daa4",
   "metadata": {
    "scrolled": true
   },
   "outputs": [
    {
     "name": "stderr",
     "output_type": "stream",
     "text": [
      "/tmp/ipykernel_8624/1850285290.py:7: FutureWarning: The argument 'infer_datetime_format' is deprecated and will be removed in a future version. A strict version of it is now the default, see https://pandas.pydata.org/pdeps/0004-consistent-to-datetime-parsing.html. You can safely remove this argument.\n",
      "  store_sales = pd.read_csv(\n"
     ]
    },
    {
     "ename": "FileNotFoundError",
     "evalue": "[Errno 2] No such file or directory: '/home/rafachem9/Documents/repos-git/python-for-data-science-and-machine-learning-bootcamp/kaggle/course-time-series/data/train.csv'",
     "output_type": "error",
     "traceback": [
      "\u001b[0;31m---------------------------------------------------------------------------\u001b[0m",
      "\u001b[0;31mFileNotFoundError\u001b[0m                         Traceback (most recent call last)",
      "Cell \u001b[0;32mIn[5], line 7\u001b[0m\n\u001b[1;32m      1\u001b[0m dtype \u001b[38;5;241m=\u001b[39m {\n\u001b[1;32m      2\u001b[0m     \u001b[38;5;124m'\u001b[39m\u001b[38;5;124mstore_nbr\u001b[39m\u001b[38;5;124m'\u001b[39m: \u001b[38;5;124m'\u001b[39m\u001b[38;5;124mcategory\u001b[39m\u001b[38;5;124m'\u001b[39m,\n\u001b[1;32m      3\u001b[0m     \u001b[38;5;124m'\u001b[39m\u001b[38;5;124mfamily\u001b[39m\u001b[38;5;124m'\u001b[39m: \u001b[38;5;124m'\u001b[39m\u001b[38;5;124mcategory\u001b[39m\u001b[38;5;124m'\u001b[39m,\n\u001b[1;32m      4\u001b[0m     \u001b[38;5;124m'\u001b[39m\u001b[38;5;124msales\u001b[39m\u001b[38;5;124m'\u001b[39m: \u001b[38;5;124m'\u001b[39m\u001b[38;5;124mfloat32\u001b[39m\u001b[38;5;124m'\u001b[39m,\n\u001b[1;32m      5\u001b[0m     \u001b[38;5;124m'\u001b[39m\u001b[38;5;124monpromotion\u001b[39m\u001b[38;5;124m'\u001b[39m: \u001b[38;5;124m'\u001b[39m\u001b[38;5;124muint64\u001b[39m\u001b[38;5;124m'\u001b[39m,\n\u001b[1;32m      6\u001b[0m }\n\u001b[0;32m----> 7\u001b[0m store_sales \u001b[38;5;241m=\u001b[39m \u001b[43mpd\u001b[49m\u001b[38;5;241;43m.\u001b[39;49m\u001b[43mread_csv\u001b[49m\u001b[43m(\u001b[49m\n\u001b[1;32m      8\u001b[0m \u001b[43m    \u001b[49m\u001b[38;5;124;43mf\u001b[39;49m\u001b[38;5;124;43m'\u001b[39;49m\u001b[38;5;132;43;01m{\u001b[39;49;00m\u001b[43mDATA_FOLDER\u001b[49m\u001b[38;5;132;43;01m}\u001b[39;49;00m\u001b[38;5;124;43m/train.csv\u001b[39;49m\u001b[38;5;124;43m'\u001b[39;49m\u001b[43m,\u001b[49m\n\u001b[1;32m      9\u001b[0m \u001b[43m    \u001b[49m\u001b[43mdtype\u001b[49m\u001b[38;5;241;43m=\u001b[39;49m\u001b[43mdtype\u001b[49m\u001b[43m,\u001b[49m\n\u001b[1;32m     10\u001b[0m \u001b[43m    \u001b[49m\u001b[43mparse_dates\u001b[49m\u001b[38;5;241;43m=\u001b[39;49m\u001b[43m[\u001b[49m\u001b[38;5;124;43m'\u001b[39;49m\u001b[38;5;124;43mdate\u001b[39;49m\u001b[38;5;124;43m'\u001b[39;49m\u001b[43m]\u001b[49m\u001b[43m,\u001b[49m\n\u001b[1;32m     11\u001b[0m \u001b[43m    \u001b[49m\u001b[43minfer_datetime_format\u001b[49m\u001b[38;5;241;43m=\u001b[39;49m\u001b[38;5;28;43;01mTrue\u001b[39;49;00m\u001b[43m,\u001b[49m\n\u001b[1;32m     12\u001b[0m \u001b[43m)\u001b[49m\n",
      "File \u001b[0;32m~/.local/lib/python3.10/site-packages/pandas/io/parsers/readers.py:948\u001b[0m, in \u001b[0;36mread_csv\u001b[0;34m(filepath_or_buffer, sep, delimiter, header, names, index_col, usecols, dtype, engine, converters, true_values, false_values, skipinitialspace, skiprows, skipfooter, nrows, na_values, keep_default_na, na_filter, verbose, skip_blank_lines, parse_dates, infer_datetime_format, keep_date_col, date_parser, date_format, dayfirst, cache_dates, iterator, chunksize, compression, thousands, decimal, lineterminator, quotechar, quoting, doublequote, escapechar, comment, encoding, encoding_errors, dialect, on_bad_lines, delim_whitespace, low_memory, memory_map, float_precision, storage_options, dtype_backend)\u001b[0m\n\u001b[1;32m    935\u001b[0m kwds_defaults \u001b[38;5;241m=\u001b[39m _refine_defaults_read(\n\u001b[1;32m    936\u001b[0m     dialect,\n\u001b[1;32m    937\u001b[0m     delimiter,\n\u001b[0;32m   (...)\u001b[0m\n\u001b[1;32m    944\u001b[0m     dtype_backend\u001b[38;5;241m=\u001b[39mdtype_backend,\n\u001b[1;32m    945\u001b[0m )\n\u001b[1;32m    946\u001b[0m kwds\u001b[38;5;241m.\u001b[39mupdate(kwds_defaults)\n\u001b[0;32m--> 948\u001b[0m \u001b[38;5;28;01mreturn\u001b[39;00m \u001b[43m_read\u001b[49m\u001b[43m(\u001b[49m\u001b[43mfilepath_or_buffer\u001b[49m\u001b[43m,\u001b[49m\u001b[43m \u001b[49m\u001b[43mkwds\u001b[49m\u001b[43m)\u001b[49m\n",
      "File \u001b[0;32m~/.local/lib/python3.10/site-packages/pandas/io/parsers/readers.py:611\u001b[0m, in \u001b[0;36m_read\u001b[0;34m(filepath_or_buffer, kwds)\u001b[0m\n\u001b[1;32m    608\u001b[0m _validate_names(kwds\u001b[38;5;241m.\u001b[39mget(\u001b[38;5;124m\"\u001b[39m\u001b[38;5;124mnames\u001b[39m\u001b[38;5;124m\"\u001b[39m, \u001b[38;5;28;01mNone\u001b[39;00m))\n\u001b[1;32m    610\u001b[0m \u001b[38;5;66;03m# Create the parser.\u001b[39;00m\n\u001b[0;32m--> 611\u001b[0m parser \u001b[38;5;241m=\u001b[39m \u001b[43mTextFileReader\u001b[49m\u001b[43m(\u001b[49m\u001b[43mfilepath_or_buffer\u001b[49m\u001b[43m,\u001b[49m\u001b[43m \u001b[49m\u001b[38;5;241;43m*\u001b[39;49m\u001b[38;5;241;43m*\u001b[39;49m\u001b[43mkwds\u001b[49m\u001b[43m)\u001b[49m\n\u001b[1;32m    613\u001b[0m \u001b[38;5;28;01mif\u001b[39;00m chunksize \u001b[38;5;129;01mor\u001b[39;00m iterator:\n\u001b[1;32m    614\u001b[0m     \u001b[38;5;28;01mreturn\u001b[39;00m parser\n",
      "File \u001b[0;32m~/.local/lib/python3.10/site-packages/pandas/io/parsers/readers.py:1448\u001b[0m, in \u001b[0;36mTextFileReader.__init__\u001b[0;34m(self, f, engine, **kwds)\u001b[0m\n\u001b[1;32m   1445\u001b[0m     \u001b[38;5;28mself\u001b[39m\u001b[38;5;241m.\u001b[39moptions[\u001b[38;5;124m\"\u001b[39m\u001b[38;5;124mhas_index_names\u001b[39m\u001b[38;5;124m\"\u001b[39m] \u001b[38;5;241m=\u001b[39m kwds[\u001b[38;5;124m\"\u001b[39m\u001b[38;5;124mhas_index_names\u001b[39m\u001b[38;5;124m\"\u001b[39m]\n\u001b[1;32m   1447\u001b[0m \u001b[38;5;28mself\u001b[39m\u001b[38;5;241m.\u001b[39mhandles: IOHandles \u001b[38;5;241m|\u001b[39m \u001b[38;5;28;01mNone\u001b[39;00m \u001b[38;5;241m=\u001b[39m \u001b[38;5;28;01mNone\u001b[39;00m\n\u001b[0;32m-> 1448\u001b[0m \u001b[38;5;28mself\u001b[39m\u001b[38;5;241m.\u001b[39m_engine \u001b[38;5;241m=\u001b[39m \u001b[38;5;28;43mself\u001b[39;49m\u001b[38;5;241;43m.\u001b[39;49m\u001b[43m_make_engine\u001b[49m\u001b[43m(\u001b[49m\u001b[43mf\u001b[49m\u001b[43m,\u001b[49m\u001b[43m \u001b[49m\u001b[38;5;28;43mself\u001b[39;49m\u001b[38;5;241;43m.\u001b[39;49m\u001b[43mengine\u001b[49m\u001b[43m)\u001b[49m\n",
      "File \u001b[0;32m~/.local/lib/python3.10/site-packages/pandas/io/parsers/readers.py:1705\u001b[0m, in \u001b[0;36mTextFileReader._make_engine\u001b[0;34m(self, f, engine)\u001b[0m\n\u001b[1;32m   1703\u001b[0m     \u001b[38;5;28;01mif\u001b[39;00m \u001b[38;5;124m\"\u001b[39m\u001b[38;5;124mb\u001b[39m\u001b[38;5;124m\"\u001b[39m \u001b[38;5;129;01mnot\u001b[39;00m \u001b[38;5;129;01min\u001b[39;00m mode:\n\u001b[1;32m   1704\u001b[0m         mode \u001b[38;5;241m+\u001b[39m\u001b[38;5;241m=\u001b[39m \u001b[38;5;124m\"\u001b[39m\u001b[38;5;124mb\u001b[39m\u001b[38;5;124m\"\u001b[39m\n\u001b[0;32m-> 1705\u001b[0m \u001b[38;5;28mself\u001b[39m\u001b[38;5;241m.\u001b[39mhandles \u001b[38;5;241m=\u001b[39m \u001b[43mget_handle\u001b[49m\u001b[43m(\u001b[49m\n\u001b[1;32m   1706\u001b[0m \u001b[43m    \u001b[49m\u001b[43mf\u001b[49m\u001b[43m,\u001b[49m\n\u001b[1;32m   1707\u001b[0m \u001b[43m    \u001b[49m\u001b[43mmode\u001b[49m\u001b[43m,\u001b[49m\n\u001b[1;32m   1708\u001b[0m \u001b[43m    \u001b[49m\u001b[43mencoding\u001b[49m\u001b[38;5;241;43m=\u001b[39;49m\u001b[38;5;28;43mself\u001b[39;49m\u001b[38;5;241;43m.\u001b[39;49m\u001b[43moptions\u001b[49m\u001b[38;5;241;43m.\u001b[39;49m\u001b[43mget\u001b[49m\u001b[43m(\u001b[49m\u001b[38;5;124;43m\"\u001b[39;49m\u001b[38;5;124;43mencoding\u001b[39;49m\u001b[38;5;124;43m\"\u001b[39;49m\u001b[43m,\u001b[49m\u001b[43m \u001b[49m\u001b[38;5;28;43;01mNone\u001b[39;49;00m\u001b[43m)\u001b[49m\u001b[43m,\u001b[49m\n\u001b[1;32m   1709\u001b[0m \u001b[43m    \u001b[49m\u001b[43mcompression\u001b[49m\u001b[38;5;241;43m=\u001b[39;49m\u001b[38;5;28;43mself\u001b[39;49m\u001b[38;5;241;43m.\u001b[39;49m\u001b[43moptions\u001b[49m\u001b[38;5;241;43m.\u001b[39;49m\u001b[43mget\u001b[49m\u001b[43m(\u001b[49m\u001b[38;5;124;43m\"\u001b[39;49m\u001b[38;5;124;43mcompression\u001b[39;49m\u001b[38;5;124;43m\"\u001b[39;49m\u001b[43m,\u001b[49m\u001b[43m \u001b[49m\u001b[38;5;28;43;01mNone\u001b[39;49;00m\u001b[43m)\u001b[49m\u001b[43m,\u001b[49m\n\u001b[1;32m   1710\u001b[0m \u001b[43m    \u001b[49m\u001b[43mmemory_map\u001b[49m\u001b[38;5;241;43m=\u001b[39;49m\u001b[38;5;28;43mself\u001b[39;49m\u001b[38;5;241;43m.\u001b[39;49m\u001b[43moptions\u001b[49m\u001b[38;5;241;43m.\u001b[39;49m\u001b[43mget\u001b[49m\u001b[43m(\u001b[49m\u001b[38;5;124;43m\"\u001b[39;49m\u001b[38;5;124;43mmemory_map\u001b[39;49m\u001b[38;5;124;43m\"\u001b[39;49m\u001b[43m,\u001b[49m\u001b[43m \u001b[49m\u001b[38;5;28;43;01mFalse\u001b[39;49;00m\u001b[43m)\u001b[49m\u001b[43m,\u001b[49m\n\u001b[1;32m   1711\u001b[0m \u001b[43m    \u001b[49m\u001b[43mis_text\u001b[49m\u001b[38;5;241;43m=\u001b[39;49m\u001b[43mis_text\u001b[49m\u001b[43m,\u001b[49m\n\u001b[1;32m   1712\u001b[0m \u001b[43m    \u001b[49m\u001b[43merrors\u001b[49m\u001b[38;5;241;43m=\u001b[39;49m\u001b[38;5;28;43mself\u001b[39;49m\u001b[38;5;241;43m.\u001b[39;49m\u001b[43moptions\u001b[49m\u001b[38;5;241;43m.\u001b[39;49m\u001b[43mget\u001b[49m\u001b[43m(\u001b[49m\u001b[38;5;124;43m\"\u001b[39;49m\u001b[38;5;124;43mencoding_errors\u001b[39;49m\u001b[38;5;124;43m\"\u001b[39;49m\u001b[43m,\u001b[49m\u001b[43m \u001b[49m\u001b[38;5;124;43m\"\u001b[39;49m\u001b[38;5;124;43mstrict\u001b[39;49m\u001b[38;5;124;43m\"\u001b[39;49m\u001b[43m)\u001b[49m\u001b[43m,\u001b[49m\n\u001b[1;32m   1713\u001b[0m \u001b[43m    \u001b[49m\u001b[43mstorage_options\u001b[49m\u001b[38;5;241;43m=\u001b[39;49m\u001b[38;5;28;43mself\u001b[39;49m\u001b[38;5;241;43m.\u001b[39;49m\u001b[43moptions\u001b[49m\u001b[38;5;241;43m.\u001b[39;49m\u001b[43mget\u001b[49m\u001b[43m(\u001b[49m\u001b[38;5;124;43m\"\u001b[39;49m\u001b[38;5;124;43mstorage_options\u001b[39;49m\u001b[38;5;124;43m\"\u001b[39;49m\u001b[43m,\u001b[49m\u001b[43m \u001b[49m\u001b[38;5;28;43;01mNone\u001b[39;49;00m\u001b[43m)\u001b[49m\u001b[43m,\u001b[49m\n\u001b[1;32m   1714\u001b[0m \u001b[43m\u001b[49m\u001b[43m)\u001b[49m\n\u001b[1;32m   1715\u001b[0m \u001b[38;5;28;01massert\u001b[39;00m \u001b[38;5;28mself\u001b[39m\u001b[38;5;241m.\u001b[39mhandles \u001b[38;5;129;01mis\u001b[39;00m \u001b[38;5;129;01mnot\u001b[39;00m \u001b[38;5;28;01mNone\u001b[39;00m\n\u001b[1;32m   1716\u001b[0m f \u001b[38;5;241m=\u001b[39m \u001b[38;5;28mself\u001b[39m\u001b[38;5;241m.\u001b[39mhandles\u001b[38;5;241m.\u001b[39mhandle\n",
      "File \u001b[0;32m~/.local/lib/python3.10/site-packages/pandas/io/common.py:863\u001b[0m, in \u001b[0;36mget_handle\u001b[0;34m(path_or_buf, mode, encoding, compression, memory_map, is_text, errors, storage_options)\u001b[0m\n\u001b[1;32m    858\u001b[0m \u001b[38;5;28;01melif\u001b[39;00m \u001b[38;5;28misinstance\u001b[39m(handle, \u001b[38;5;28mstr\u001b[39m):\n\u001b[1;32m    859\u001b[0m     \u001b[38;5;66;03m# Check whether the filename is to be opened in binary mode.\u001b[39;00m\n\u001b[1;32m    860\u001b[0m     \u001b[38;5;66;03m# Binary mode does not support 'encoding' and 'newline'.\u001b[39;00m\n\u001b[1;32m    861\u001b[0m     \u001b[38;5;28;01mif\u001b[39;00m ioargs\u001b[38;5;241m.\u001b[39mencoding \u001b[38;5;129;01mand\u001b[39;00m \u001b[38;5;124m\"\u001b[39m\u001b[38;5;124mb\u001b[39m\u001b[38;5;124m\"\u001b[39m \u001b[38;5;129;01mnot\u001b[39;00m \u001b[38;5;129;01min\u001b[39;00m ioargs\u001b[38;5;241m.\u001b[39mmode:\n\u001b[1;32m    862\u001b[0m         \u001b[38;5;66;03m# Encoding\u001b[39;00m\n\u001b[0;32m--> 863\u001b[0m         handle \u001b[38;5;241m=\u001b[39m \u001b[38;5;28;43mopen\u001b[39;49m\u001b[43m(\u001b[49m\n\u001b[1;32m    864\u001b[0m \u001b[43m            \u001b[49m\u001b[43mhandle\u001b[49m\u001b[43m,\u001b[49m\n\u001b[1;32m    865\u001b[0m \u001b[43m            \u001b[49m\u001b[43mioargs\u001b[49m\u001b[38;5;241;43m.\u001b[39;49m\u001b[43mmode\u001b[49m\u001b[43m,\u001b[49m\n\u001b[1;32m    866\u001b[0m \u001b[43m            \u001b[49m\u001b[43mencoding\u001b[49m\u001b[38;5;241;43m=\u001b[39;49m\u001b[43mioargs\u001b[49m\u001b[38;5;241;43m.\u001b[39;49m\u001b[43mencoding\u001b[49m\u001b[43m,\u001b[49m\n\u001b[1;32m    867\u001b[0m \u001b[43m            \u001b[49m\u001b[43merrors\u001b[49m\u001b[38;5;241;43m=\u001b[39;49m\u001b[43merrors\u001b[49m\u001b[43m,\u001b[49m\n\u001b[1;32m    868\u001b[0m \u001b[43m            \u001b[49m\u001b[43mnewline\u001b[49m\u001b[38;5;241;43m=\u001b[39;49m\u001b[38;5;124;43m\"\u001b[39;49m\u001b[38;5;124;43m\"\u001b[39;49m\u001b[43m,\u001b[49m\n\u001b[1;32m    869\u001b[0m \u001b[43m        \u001b[49m\u001b[43m)\u001b[49m\n\u001b[1;32m    870\u001b[0m     \u001b[38;5;28;01melse\u001b[39;00m:\n\u001b[1;32m    871\u001b[0m         \u001b[38;5;66;03m# Binary mode\u001b[39;00m\n\u001b[1;32m    872\u001b[0m         handle \u001b[38;5;241m=\u001b[39m \u001b[38;5;28mopen\u001b[39m(handle, ioargs\u001b[38;5;241m.\u001b[39mmode)\n",
      "\u001b[0;31mFileNotFoundError\u001b[0m: [Errno 2] No such file or directory: '/home/rafachem9/Documents/repos-git/python-for-data-science-and-machine-learning-bootcamp/kaggle/course-time-series/data/train.csv'"
     ]
    }
   ],
   "source": [
    "dtype = {\n",
    "    'store_nbr': 'category',\n",
    "    'family': 'category',\n",
    "    'sales': 'float32',\n",
    "    'onpromotion': 'uint64',\n",
    "}\n",
    "store_sales = pd.read_csv(\n",
    "    f'{DATA_FOLDER}/train.csv',\n",
    "    dtype=dtype,\n",
    "    parse_dates=['date'],\n",
    "    infer_datetime_format=True,\n",
    ")"
   ]
  },
  {
   "cell_type": "code",
   "execution_count": null,
   "id": "b02c832f-6741-498e-8afe-37f91d360fef",
   "metadata": {},
   "outputs": [],
   "source": [
    "store_sales.head()"
   ]
  },
  {
   "cell_type": "code",
   "execution_count": null,
   "id": "1a6fef01-c919-421e-90a3-4c2f1b7d96cf",
   "metadata": {},
   "outputs": [],
   "source": [
    "store_sales = store_sales.set_index('date').to_period('D')\n",
    "store_sales = store_sales.set_index(['store_nbr', 'family'], append=True)\n",
    "average_sales = store_sales.groupby('date').mean()['sales']"
   ]
  },
  {
   "cell_type": "code",
   "execution_count": null,
   "id": "f91c6fb1-4375-4a0b-a242-bed157c3172a",
   "metadata": {},
   "outputs": [],
   "source": [
    "store_sales.head()"
   ]
  },
  {
   "cell_type": "code",
   "execution_count": null,
   "id": "c543f7ff-fb43-4220-b562-812d2fe77bcd",
   "metadata": {},
   "outputs": [],
   "source": [
    "ax = food_sales.plot(figsize=(12, 4), marker='o', color='grey', linestyle='-', linewidth=1)\n",
    "ax.grid(which='both', linestyle='-', linewidth=0.3, axis='both')  # Añadir una cuadrícula suave\n",
    "ax.set(title=\"US Food and Beverage Sales\", ylabel=\"Millions of Dollars\");"
   ]
  },
  {
   "cell_type": "code",
   "execution_count": null,
   "id": "a6cd2d65-b8e2-4d31-bd2b-d40e244b0574",
   "metadata": {},
   "outputs": [],
   "source": [
    "#Now make a moving average plot to estimate the trend for this series."
   ]
  },
  {
   "cell_type": "code",
   "execution_count": null,
   "id": "188b6218-5c34-4331-908c-3dd7db9609ab",
   "metadata": {},
   "outputs": [],
   "source": []
  },
  {
   "cell_type": "code",
   "execution_count": null,
   "id": "8600516e-0665-412d-b592-faf78f58ecc8",
   "metadata": {},
   "outputs": [],
   "source": [
    "window_num = 12\n",
    "moving_avg = food_sales.rolling(\n",
    "    window=window_num,\n",
    "    center=True,\n",
    "    min_periods=int(window_num/2)\n",
    ").mean()\n",
    "ax = food_sales.plot(figsize=(12, 4), marker='o', markersize=3, color='grey', linestyle='-', linewidth=0.5)\n",
    "moving_avg.plot(ax=ax)\n",
    "ax.grid(True, which='major', linestyle='-', linewidth=0.3, axis='both')  # Añadir una cuadrícula suave\n"
   ]
  },
  {
   "cell_type": "code",
   "execution_count": null,
   "id": "30787de5-5604-4b3a-a753-0b71edff5b39",
   "metadata": {},
   "outputs": [],
   "source": [
    "trend = average_sales.rolling(\n",
    "    window=365,\n",
    "    center=True,\n",
    "    min_periods=183,\n",
    ").mean()\n",
    "\n",
    "ax = average_sales.plot(alpha=0.5)\n",
    "\n",
    "ax = trend.plot(ax=ax, linewidth=3)\n",
    "ax.grid(True, which='major', linestyle='-', linewidth=0.3, axis='both')  # Añadir una cuadrícula suave\n"
   ]
  },
  {
   "cell_type": "markdown",
   "id": "26033b31-3425-452b-8fcd-96d138c31fe6",
   "metadata": {},
   "source": [
    "# 3) Create a Trend Feature\n",
    "\n",
    "Use `DeterministicProcess` to create a feature set for a cubic trend model. Also create features for a 90-day forecast."
   ]
  },
  {
   "cell_type": "code",
   "execution_count": null,
   "id": "c28f98e7-e672-4e9d-b1ad-819c50a9cb85",
   "metadata": {},
   "outputs": [],
   "source": [
    "from statsmodels.tsa.deterministic import DeterministicProcess\n",
    "\n",
    "y = average_sales.copy()  # the target\n"
   ]
  },
  {
   "cell_type": "code",
   "execution_count": null,
   "id": "c8e96f2b-c66e-4599-bfa5-2be51383f37e",
   "metadata": {},
   "outputs": [],
   "source": [
    "dp = DeterministicProcess(\n",
    "    index=average_sales.index,  # dates from the training data\n",
    "    constant=True,       # dummy feature for the bias (y_intercept)\n",
    "    order=3,             # the time dummy (trend)\n",
    "    drop=True,           # drop terms if necessary to avoid collinearity\n",
    ")\n",
    "X = dp.in_sample()\n",
    "X_fore = dp.out_of_sample(steps=90)"
   ]
  },
  {
   "cell_type": "code",
   "execution_count": null,
   "id": "45b53f7b-d433-4485-9692-f43f3cb8f675",
   "metadata": {},
   "outputs": [],
   "source": [
    "ax = X.plot()"
   ]
  },
  {
   "cell_type": "code",
   "execution_count": null,
   "id": "aa2abe04-1acb-4910-a43a-d5303006c6e9",
   "metadata": {},
   "outputs": [],
   "source": [
    "X_fore.plot()\n"
   ]
  },
  {
   "cell_type": "code",
   "execution_count": null,
   "id": "980b6798-9be5-4e08-84ca-95823286ae3c",
   "metadata": {},
   "outputs": [],
   "source": [
    "model = LinearRegression()\n",
    "model.fit(X, y)\n",
    "\n",
    "y_pred = pd.Series(model.predict(X), index=X.index)\n",
    "y_fore = pd.Series(model.predict(X_fore), index=X_fore.index)\n",
    "\n",
    "ax = y.plot(figsize=(12, 4), marker='o', color='grey', linestyle='-', linewidth=1, alpha=0.5, title=\"Average Sales\", ylabel=\"items sold\")\n",
    "ax = y_pred.plot(ax=ax, linewidth=3, label=\"Trend\", color='C0')\n",
    "ax = y_fore.plot(ax=ax, linewidth=3, label=\"Trend Forecast\", color='C3')\n",
    "ax.legend()\n",
    "ax.grid(True, which='major', linestyle='-', linewidth=0.3, axis='both')  # Añadir una cuadrícula suave\n"
   ]
  },
  {
   "cell_type": "code",
   "execution_count": null,
   "id": "43afe770-940f-44e2-b4f3-4ceaa67033f2",
   "metadata": {},
   "outputs": [],
   "source": [
    "from statsmodels.tsa.deterministic import DeterministicProcess\n",
    "\n",
    "dp = DeterministicProcess(index=y.index, order=8)\n",
    "X = dp.in_sample()\n",
    "\n",
    "model = LinearRegression()\n",
    "model.fit(X, y)\n",
    "\n",
    "y_pred = pd.Series(model.predict(X), index=X.index)\n",
    "\n",
    "ax = y.plot(alpha=0.5, title=\"Average Sales\", ylabel=\"items sold\")\n",
    "ax = y_pred.plot(ax=ax, linewidth=3, label=\"Trend\", color='C0')\n",
    "ax.legend();"
   ]
  },
  {
   "cell_type": "code",
   "execution_count": null,
   "id": "27e05150-6193-4381-988c-24c29e424b13",
   "metadata": {},
   "outputs": [],
   "source": [
    "X.plot()"
   ]
  },
  {
   "cell_type": "code",
   "execution_count": null,
   "id": "4a96af2c-f221-455b-bfb5-9e92f0afbfb7",
   "metadata": {},
   "outputs": [],
   "source": [
    "X_fore = dp.out_of_sample(steps=90)\n",
    "y_fore = pd.Series(model.predict(X_fore), index=X_fore.index)\n",
    "\n",
    "ax = y.plot(alpha=0.5, title=\"Average Sales\", ylabel=\"items sold\")\n",
    "ax = y_pred.plot(ax=ax, linewidth=3, label=\"Trend\", color='C0')\n",
    "ax = y_fore.plot(ax=ax, linewidth=3, label=\"Trend Forecast\", color='C3')\n",
    "ax.legend();"
   ]
  },
  {
   "cell_type": "code",
   "execution_count": null,
   "id": "5b9cefe7-01a1-452e-813d-8b17fc3cacc8",
   "metadata": {},
   "outputs": [],
   "source": []
  },
  {
   "cell_type": "code",
   "execution_count": null,
   "id": "2d49be66-cf7d-420c-b446-ebe55af5479e",
   "metadata": {},
   "outputs": [],
   "source": []
  },
  {
   "cell_type": "code",
   "execution_count": null,
   "id": "657fa507-fc95-436b-9a8b-ba2d75ec5034",
   "metadata": {},
   "outputs": [],
   "source": []
  }
 ],
 "metadata": {
  "kernelspec": {
   "display_name": "Python 3 (ipykernel)",
   "language": "python",
   "name": "python3"
  },
  "language_info": {
   "codemirror_mode": {
    "name": "ipython",
    "version": 3
   },
   "file_extension": ".py",
   "mimetype": "text/x-python",
   "name": "python",
   "nbconvert_exporter": "python",
   "pygments_lexer": "ipython3",
   "version": "3.10.12"
  }
 },
 "nbformat": 4,
 "nbformat_minor": 5
}
